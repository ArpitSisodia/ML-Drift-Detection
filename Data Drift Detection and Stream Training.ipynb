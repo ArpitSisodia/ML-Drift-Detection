{
 "cells": [
  {
   "cell_type": "markdown",
   "metadata": {},
   "source": [
    "## experiment of Iterative Training & Drift Detection using multiflow package(river)\n",
    "### loading dataset and data preprocessing"
   ]
  },
  {
   "cell_type": "code",
   "execution_count": 3,
   "metadata": {},
   "outputs": [],
   "source": [
    "# loading data\n",
    "import pandas as pd\n",
    "merged_data= pd.read_csv('/Users/apple/Downloads/Merged_Aggregated_data_jul12.csv')"
   ]
  },
  {
   "cell_type": "code",
   "execution_count": 4,
   "metadata": {},
   "outputs": [
    {
     "data": {
      "text/plain": [
       "'/Users/apple/Documents/MSN'"
      ]
     },
     "execution_count": 4,
     "metadata": {},
     "output_type": "execute_result"
    }
   ],
   "source": [
    "pwd"
   ]
  },
  {
   "cell_type": "code",
   "execution_count": 5,
   "metadata": {},
   "outputs": [
    {
     "data": {
      "text/plain": [
       "Index(['SiteID', 'CaptureDateTime', 'CaptureDateTime_ACEM', 'MeterID',\n",
       "       'MeterSlaveID', 'MeterPowerSource', 'MeterUsage', 'MeterKWh1',\n",
       "       'MeterKWh2', 'avg_load_dg', 'CaptureDateTime_BASIC',\n",
       "       'ShelterTemperature', 'AmbientTemperature', 'EBRunhours', 'DG1Runhours',\n",
       "       'BatteryRunhours', 'UnknownRunhours', 'NoLoadRunhours',\n",
       "       'SiteOutagehours', 'PowerSource', 'CaptureDateTime_FUEL', 'FuelLevel',\n",
       "       'FuelSensorStatus', 'Channel1ChargeDischargeCurrent_0',\n",
       "       'Channel1ChargeDischargeCurrent_1', 'Channel2ChargeDischargeCurrent_0',\n",
       "       'Channel2ChargeDischargeCurrent_1', 'Channel3ChargeDischargeCurrent_0',\n",
       "       'Channel3ChargeDischargeCurrent_1', 'Channel4ChargeDischargeCurrent_0',\n",
       "       'Channel4ChargeDischargeCurrent_1', 'DCVoltage_0', 'DCVoltage_1'],\n",
       "      dtype='object')"
      ]
     },
     "execution_count": 5,
     "metadata": {},
     "output_type": "execute_result"
    }
   ],
   "source": [
    "merged_data.columns"
   ]
  },
  {
   "cell_type": "code",
   "execution_count": 7,
   "metadata": {},
   "outputs": [],
   "source": [
    "data_for_poc= merged_data[['CaptureDateTime' , 'AmbientTemperature','ShelterTemperature', 'Channel1ChargeDischargeCurrent_1', 'Channel2ChargeDischargeCurrent_0',\n",
    "       'Channel2ChargeDischargeCurrent_1', 'Channel3ChargeDischargeCurrent_0',\n",
    "       'Channel3ChargeDischargeCurrent_1', 'Channel4ChargeDischargeCurrent_0',\n",
    "       'Channel4ChargeDischargeCurrent_1']]"
   ]
  },
  {
   "cell_type": "code",
   "execution_count": null,
   "metadata": {},
   "outputs": [],
   "source": [
    "!pip3 install streamz"
   ]
  },
  {
   "cell_type": "code",
   "execution_count": 12,
   "metadata": {},
   "outputs": [],
   "source": [
    "import pandas as pd\n",
    "from streamz.dataframe import DataFrame # for handling streaming tabular data\n",
    "from streamz import Stream\n",
    "\n",
    "stream = Stream()\n",
    "example = pd.DataFrame({'name': [], 'amount': []})\n",
    "sdf = DataFrame(stream, example=data_for_poc)"
   ]
  },
  {
   "cell_type": "code",
   "execution_count": 14,
   "metadata": {},
   "outputs": [
    {
     "data": {
      "text/plain": [
       "streamz.dataframe.core.DataFrame"
      ]
     },
     "execution_count": 14,
     "metadata": {},
     "output_type": "execute_result"
    }
   ],
   "source": [
    "type(sdf)"
   ]
  },
  {
   "cell_type": "markdown",
   "metadata": {},
   "source": [
    "### learning methods that  can be implemented-\n",
    "\n",
    "https://scikit-multiflow.readthedocs.io/en/stable/api/api.html#learning-methods"
   ]
  },
  {
   "cell_type": "markdown",
   "metadata": {},
   "source": [
    "# prequential Evalution - Temp Forecasting EIO Use case\n",
    "### multiflow/ creme/ river packages"
   ]
  },
  {
   "cell_type": "code",
   "execution_count": 20,
   "metadata": {},
   "outputs": [
    {
     "name": "stdout",
     "output_type": "stream",
     "text": [
      "Perceptron Mask usage example\n",
      "5000 samples analyzed\n",
      "Perceptron's performance: 0.9866\n"
     ]
    }
   ],
   "source": [
    "# Imports\n",
    "from skmultiflow.neural_networks import PerceptronMask\n",
    "from skmultiflow.data import SEAGenerator\n",
    "# Setup a data stream\n",
    "stream = SEAGenerator(random_state=1)\n",
    "# Setup the Perceptron Mask\n",
    "perceptron = PerceptronMask()\n",
    "n_samples = 0\n",
    "correct_cnt = 0\n",
    "while n_samples < 5000 and stream.has_more_samples():\n",
    "    X, y = stream.next_sample()\n",
    "    perceptron.partial_fit(X, y, classes=stream.target_values)\n",
    "    my_pred = perceptron.predict(X)\n",
    "    if y[0] == my_pred[0]:\n",
    "        correct_cnt += 1\n",
    "    perceptron.partial_fit(X, y, classes=stream.target_values)\n",
    "    n_samples += 1\n",
    "# Display the results\n",
    "print('Perceptron Mask usage example')\n",
    "print('{} samples analyzed'.format(n_samples))\n",
    "print(\"Perceptron's performance: {}\".format(correct_cnt / n_samples))"
   ]
  },
  {
   "cell_type": "code",
   "execution_count": 24,
   "metadata": {},
   "outputs": [
    {
     "name": "stdout",
     "output_type": "stream",
     "text": [
      "\u001b[31mERROR: Could not find a version that satisfies the requirement skmulti-flow (from versions: none)\u001b[0m\r\n",
      "\u001b[31mERROR: No matching distribution found for skmulti-flow\u001b[0m\r\n"
     ]
    }
   ],
   "source": [
    "# ! pip3 install scikit-multiflow"
   ]
  },
  {
   "cell_type": "code",
   "execution_count": 21,
   "metadata": {},
   "outputs": [
    {
     "data": {
      "text/plain": [
       "(array([[8.05802036, 5.41587407, 8.78886756]]), array([1]))"
      ]
     },
     "execution_count": 21,
     "metadata": {},
     "output_type": "execute_result"
    }
   ],
   "source": [
    "stream.next_sample() # has to be stream object"
   ]
  },
  {
   "cell_type": "code",
   "execution_count": 22,
   "metadata": {},
   "outputs": [
    {
     "data": {
      "text/plain": [
       "array([[4.53352198, 0.45188963, 6.9652811 ]])"
      ]
     },
     "execution_count": 22,
     "metadata": {},
     "output_type": "execute_result"
    }
   ],
   "source": [
    "X"
   ]
  },
  {
   "cell_type": "code",
   "execution_count": 23,
   "metadata": {},
   "outputs": [
    {
     "data": {
      "text/plain": [
       "array([0])"
      ]
     },
     "execution_count": 23,
     "metadata": {},
     "output_type": "execute_result"
    }
   ],
   "source": [
    "y"
   ]
  },
  {
   "cell_type": "markdown",
   "metadata": {},
   "source": [
    "### NN having error for regression model as classes has to be passed\n",
    "seems like not suitable for classification model"
   ]
  },
  {
   "cell_type": "code",
   "execution_count": 35,
   "metadata": {},
   "outputs": [
    {
     "name": "stderr",
     "output_type": "stream",
     "text": [
      "/opt/anaconda3/lib/python3.7/site-packages/sklearn/utils/validation.py:760: DataConversionWarning: A column-vector y was passed when a 1d array was expected. Please change the shape of y to (n_samples, ), for example using ravel().\n",
      "  y = column_or_1d(y, warn=True)\n"
     ]
    },
    {
     "ename": "ValueError",
     "evalue": "classes must be passed on the first call to partial_fit.",
     "output_type": "error",
     "traceback": [
      "\u001b[0;31m---------------------------------------------------------------------------\u001b[0m",
      "\u001b[0;31mValueError\u001b[0m                                Traceback (most recent call last)",
      "\u001b[0;32m<ipython-input-35-3599b159583a>\u001b[0m in \u001b[0;36m<module>\u001b[0;34m\u001b[0m\n\u001b[1;32m     15\u001b[0m        'Channel4ChargeDischargeCurrent_1']].iloc[i:i+1,:]\n\u001b[1;32m     16\u001b[0m     \u001b[0my\u001b[0m\u001b[0;34m=\u001b[0m\u001b[0mmerged_data\u001b[0m\u001b[0;34m[\u001b[0m\u001b[0;34m[\u001b[0m\u001b[0;34m'ShelterTemperature'\u001b[0m\u001b[0;34m]\u001b[0m\u001b[0;34m]\u001b[0m\u001b[0;34m.\u001b[0m\u001b[0miloc\u001b[0m\u001b[0;34m[\u001b[0m\u001b[0mi\u001b[0m\u001b[0;34m:\u001b[0m\u001b[0mi\u001b[0m\u001b[0;34m+\u001b[0m\u001b[0;36m1\u001b[0m\u001b[0;34m,\u001b[0m\u001b[0;34m:\u001b[0m\u001b[0;34m]\u001b[0m\u001b[0;34m\u001b[0m\u001b[0;34m\u001b[0m\u001b[0m\n\u001b[0;32m---> 17\u001b[0;31m     \u001b[0mperceptron\u001b[0m\u001b[0;34m.\u001b[0m\u001b[0mpartial_fit\u001b[0m\u001b[0;34m(\u001b[0m\u001b[0mX\u001b[0m\u001b[0;34m,\u001b[0m \u001b[0my\u001b[0m\u001b[0;34m,\u001b[0m \u001b[0mclasses\u001b[0m\u001b[0;34m=\u001b[0m \u001b[0;32mNone\u001b[0m\u001b[0;34m)\u001b[0m\u001b[0;34m\u001b[0m\u001b[0;34m\u001b[0m\u001b[0m\n\u001b[0m\u001b[1;32m     18\u001b[0m     \u001b[0mmy_pred\u001b[0m \u001b[0;34m=\u001b[0m \u001b[0mperceptron\u001b[0m\u001b[0;34m.\u001b[0m\u001b[0mpredict\u001b[0m\u001b[0;34m(\u001b[0m\u001b[0mX\u001b[0m\u001b[0;34m)\u001b[0m\u001b[0;34m\u001b[0m\u001b[0;34m\u001b[0m\u001b[0m\n\u001b[1;32m     19\u001b[0m     \u001b[0;32mif\u001b[0m \u001b[0my\u001b[0m\u001b[0;34m[\u001b[0m\u001b[0;36m0\u001b[0m\u001b[0;34m]\u001b[0m \u001b[0;34m==\u001b[0m \u001b[0mmy_pred\u001b[0m\u001b[0;34m[\u001b[0m\u001b[0;36m0\u001b[0m\u001b[0;34m]\u001b[0m\u001b[0;34m:\u001b[0m\u001b[0;34m\u001b[0m\u001b[0;34m\u001b[0m\u001b[0m\n",
      "\u001b[0;32m/opt/anaconda3/lib/python3.7/site-packages/skmultiflow/neural_networks/perceptron.py\u001b[0m in \u001b[0;36mpartial_fit\u001b[0;34m(self, X, y, classes, sample_weight)\u001b[0m\n\u001b[1;32m    134\u001b[0m \u001b[0;34m\u001b[0m\u001b[0m\n\u001b[1;32m    135\u001b[0m         \"\"\"\n\u001b[0;32m--> 136\u001b[0;31m         \u001b[0mself\u001b[0m\u001b[0;34m.\u001b[0m\u001b[0mclassifier\u001b[0m\u001b[0;34m.\u001b[0m\u001b[0mpartial_fit\u001b[0m\u001b[0;34m(\u001b[0m\u001b[0mX\u001b[0m\u001b[0;34m=\u001b[0m\u001b[0mX\u001b[0m\u001b[0;34m,\u001b[0m \u001b[0my\u001b[0m\u001b[0;34m=\u001b[0m\u001b[0my\u001b[0m\u001b[0;34m,\u001b[0m \u001b[0mclasses\u001b[0m\u001b[0;34m=\u001b[0m\u001b[0mclasses\u001b[0m\u001b[0;34m,\u001b[0m \u001b[0msample_weight\u001b[0m\u001b[0;34m=\u001b[0m\u001b[0msample_weight\u001b[0m\u001b[0;34m)\u001b[0m\u001b[0;34m\u001b[0m\u001b[0;34m\u001b[0m\u001b[0m\n\u001b[0m\u001b[1;32m    137\u001b[0m         \u001b[0;32mreturn\u001b[0m \u001b[0mself\u001b[0m\u001b[0;34m\u001b[0m\u001b[0;34m\u001b[0m\u001b[0m\n\u001b[1;32m    138\u001b[0m \u001b[0;34m\u001b[0m\u001b[0m\n",
      "\u001b[0;32m/opt/anaconda3/lib/python3.7/site-packages/sklearn/linear_model/_stochastic_gradient.py\u001b[0m in \u001b[0;36mpartial_fit\u001b[0;34m(self, X, y, classes, sample_weight)\u001b[0m\n\u001b[1;32m    675\u001b[0m                                  \u001b[0mlearning_rate\u001b[0m\u001b[0;34m=\u001b[0m\u001b[0mself\u001b[0m\u001b[0;34m.\u001b[0m\u001b[0mlearning_rate\u001b[0m\u001b[0;34m,\u001b[0m \u001b[0mmax_iter\u001b[0m\u001b[0;34m=\u001b[0m\u001b[0;36m1\u001b[0m\u001b[0;34m,\u001b[0m\u001b[0;34m\u001b[0m\u001b[0;34m\u001b[0m\u001b[0m\n\u001b[1;32m    676\u001b[0m                                  \u001b[0mclasses\u001b[0m\u001b[0;34m=\u001b[0m\u001b[0mclasses\u001b[0m\u001b[0;34m,\u001b[0m \u001b[0msample_weight\u001b[0m\u001b[0;34m=\u001b[0m\u001b[0msample_weight\u001b[0m\u001b[0;34m,\u001b[0m\u001b[0;34m\u001b[0m\u001b[0;34m\u001b[0m\u001b[0m\n\u001b[0;32m--> 677\u001b[0;31m                                  coef_init=None, intercept_init=None)\n\u001b[0m\u001b[1;32m    678\u001b[0m \u001b[0;34m\u001b[0m\u001b[0m\n\u001b[1;32m    679\u001b[0m     def fit(self, X, y, coef_init=None, intercept_init=None,\n",
      "\u001b[0;32m/opt/anaconda3/lib/python3.7/site-packages/sklearn/linear_model/_stochastic_gradient.py\u001b[0m in \u001b[0;36m_partial_fit\u001b[0;34m(self, X, y, alpha, C, loss, learning_rate, max_iter, classes, sample_weight, coef_init, intercept_init)\u001b[0m\n\u001b[1;32m    478\u001b[0m         \u001b[0mn_samples\u001b[0m\u001b[0;34m,\u001b[0m \u001b[0mn_features\u001b[0m \u001b[0;34m=\u001b[0m \u001b[0mX\u001b[0m\u001b[0;34m.\u001b[0m\u001b[0mshape\u001b[0m\u001b[0;34m\u001b[0m\u001b[0;34m\u001b[0m\u001b[0m\n\u001b[1;32m    479\u001b[0m \u001b[0;34m\u001b[0m\u001b[0m\n\u001b[0;32m--> 480\u001b[0;31m         \u001b[0m_check_partial_fit_first_call\u001b[0m\u001b[0;34m(\u001b[0m\u001b[0mself\u001b[0m\u001b[0;34m,\u001b[0m \u001b[0mclasses\u001b[0m\u001b[0;34m)\u001b[0m\u001b[0;34m\u001b[0m\u001b[0;34m\u001b[0m\u001b[0m\n\u001b[0m\u001b[1;32m    481\u001b[0m \u001b[0;34m\u001b[0m\u001b[0m\n\u001b[1;32m    482\u001b[0m         \u001b[0mn_classes\u001b[0m \u001b[0;34m=\u001b[0m \u001b[0mself\u001b[0m\u001b[0;34m.\u001b[0m\u001b[0mclasses_\u001b[0m\u001b[0;34m.\u001b[0m\u001b[0mshape\u001b[0m\u001b[0;34m[\u001b[0m\u001b[0;36m0\u001b[0m\u001b[0;34m]\u001b[0m\u001b[0;34m\u001b[0m\u001b[0;34m\u001b[0m\u001b[0m\n",
      "\u001b[0;32m/opt/anaconda3/lib/python3.7/site-packages/sklearn/utils/multiclass.py\u001b[0m in \u001b[0;36m_check_partial_fit_first_call\u001b[0;34m(clf, classes)\u001b[0m\n\u001b[1;32m    306\u001b[0m     \"\"\"\n\u001b[1;32m    307\u001b[0m     \u001b[0;32mif\u001b[0m \u001b[0mgetattr\u001b[0m\u001b[0;34m(\u001b[0m\u001b[0mclf\u001b[0m\u001b[0;34m,\u001b[0m \u001b[0;34m'classes_'\u001b[0m\u001b[0;34m,\u001b[0m \u001b[0;32mNone\u001b[0m\u001b[0;34m)\u001b[0m \u001b[0;32mis\u001b[0m \u001b[0;32mNone\u001b[0m \u001b[0;32mand\u001b[0m \u001b[0mclasses\u001b[0m \u001b[0;32mis\u001b[0m \u001b[0;32mNone\u001b[0m\u001b[0;34m:\u001b[0m\u001b[0;34m\u001b[0m\u001b[0;34m\u001b[0m\u001b[0m\n\u001b[0;32m--> 308\u001b[0;31m         raise ValueError(\"classes must be passed on the first call \"\n\u001b[0m\u001b[1;32m    309\u001b[0m                          \"to partial_fit.\")\n\u001b[1;32m    310\u001b[0m \u001b[0;34m\u001b[0m\u001b[0m\n",
      "\u001b[0;31mValueError\u001b[0m: classes must be passed on the first call to partial_fit."
     ]
    }
   ],
   "source": [
    "# Imports\n",
    "from skmultiflow.neural_networks import PerceptronMask\n",
    "\n",
    "# Setup a data stream\n",
    "\n",
    "# Setup the Perceptron Mask\n",
    "perceptron = PerceptronMask()\n",
    "n_samples = 0\n",
    "correct_cnt = 0\n",
    "for i in range(len(merged_data)):\n",
    "    \n",
    "    X=merged_data[['AmbientTemperature', 'Channel1ChargeDischargeCurrent_1', 'Channel2ChargeDischargeCurrent_0',\n",
    "       'Channel2ChargeDischargeCurrent_1', 'Channel3ChargeDischargeCurrent_0',\n",
    "       'Channel3ChargeDischargeCurrent_1', 'Channel4ChargeDischargeCurrent_0',\n",
    "       'Channel4ChargeDischargeCurrent_1']].iloc[i:i+1,:]\n",
    "    y=merged_data[['ShelterTemperature']].iloc[i:i+1,:]\n",
    "    perceptron.partial_fit(X, y, classes= None)\n",
    "    my_pred = perceptron.predict(X)\n",
    "    if y[0] == my_pred[0]:\n",
    "        correct_cnt += 1\n",
    "    perceptron.partial_fit(X, y)\n",
    "# Display the results\n",
    "print('Perceptron Mask usage example')\n",
    "print('{} samples analyzed'.format(n_samples))\n",
    "print(\"Perceptron's performance: {}\".format(correct_cnt / n_samples))"
   ]
  },
  {
   "cell_type": "markdown",
   "metadata": {},
   "source": [
    "### scikit-multiflow requires a few interfaces, not present in scikit-learn, This mask serves as a \n",
    "\n",
    "##  wrapper for the Perceptron classifier. ( for neural network)"
   ]
  },
  {
   "cell_type": "code",
   "execution_count": null,
   "metadata": {},
   "outputs": [],
   "source": []
  },
  {
   "cell_type": "markdown",
   "metadata": {},
   "source": [
    "# ---------     fitting Random Forest for Temprature forecasting  ---"
   ]
  },
  {
   "cell_type": "code",
   "execution_count": 43,
   "metadata": {},
   "outputs": [
    {
     "name": "stdout",
     "output_type": "stream",
     "text": [
      "[[23.17625  0.1      1.45125 11.8125   0.       9.84375  0.       0.     ]]\n",
      "[[25.40375]]\n",
      "[[21.64333333  0.26666667  1.47       11.21333333  0.          9.79\n",
      "   0.          0.        ]]\n",
      "[[23.39]]\n",
      "[[20.246  0.     1.43  11.29   0.     9.776  0.     0.   ]]\n",
      "[[22.706]]\n",
      "[[22.59285714  0.          1.44       12.03714286  0.          9.81285714\n",
      "   0.          0.        ]]\n",
      "[[25.35285714]]\n",
      "[[20.74666667  0.          1.44       11.83666667  0.          9.92666667\n",
      "   0.          0.        ]]\n",
      "[[22.47666667]]\n",
      "[[20.82857143  0.          1.40714286 11.53428571  0.          9.93\n",
      "   0.          0.        ]]\n",
      "[[23.69142857]]\n",
      "[[22.82   0.     1.43  11.374  0.     9.588  0.     0.   ]]\n",
      "[[25.132]]\n",
      "[[20.1         0.          1.41666667 10.89        0.          9.59333333\n",
      "   0.          0.        ]]\n",
      "[[22.41333333]]\n",
      "[[19.81   0.     1.37  11.064  0.     9.802  0.     0.   ]]\n",
      "[[22.86]]\n",
      "[[22.52428571  0.          1.39285714 10.99857143  0.          9.74142857\n",
      "   0.          0.        ]]\n",
      "[[25.29857143]]\n",
      "[[20.06   0.     1.396 10.76   0.     9.574  0.     0.   ]]\n",
      "[[22.072]]\n",
      "[[22.148  0.     1.398 11.07   0.     9.594  0.     0.   ]]\n",
      "[[25.022]]\n",
      "[[22.522  0.     1.428 10.8    0.     9.496  0.     0.   ]]\n",
      "[[24.522]]\n",
      "[[21.37285714  0.          1.41142857 10.83285714  0.          9.54428571\n",
      "   0.          0.        ]]\n",
      "[[23.80857143]]\n",
      "[[22.608  0.     1.444 10.806  0.     9.508  0.     0.   ]]\n",
      "[[24.608]]\n",
      "[[21.09428571  0.          1.41571429 10.96714286  0.          9.60714286\n",
      "   0.          0.        ]]\n",
      "[[23.56714286]]\n",
      "[[22.872  0.     1.444 10.966  0.     9.544  0.     0.   ]]\n",
      "[[25.072]]\n",
      "[[21.195       0.          1.425      11.04        0.          9.60833333\n",
      "   0.          0.        ]]\n",
      "[[23.27666667]]\n",
      "[[22.72333333  0.          1.45       11.14333333  0.          9.59666667\n",
      "   0.          0.        ]]\n",
      "[[24.93333333]]\n",
      "[[20.82   0.     1.424 11.858  0.     9.666  0.     0.   ]]\n",
      "[[22.92]]\n",
      "[[22.90857143  0.          1.45142857 11.66142857  0.          9.85\n",
      "   0.          0.        ]]\n",
      "[[25.30714286]]\n",
      "[[20.484  0.     1.43  11.536  0.     9.932  0.     0.   ]]\n",
      "[[22.458]]\n",
      "[[22.86428571  0.          1.44142857 11.33571429  0.          9.76285714\n",
      "   0.          0.        ]]\n",
      "[[25.38857143]]\n",
      "[[20.982  0.     1.434 11.176  0.     9.654  0.     0.   ]]\n",
      "[[22.658]]\n",
      "[[22.72857143  0.          1.44428571 11.29571429  0.          9.65714286\n",
      "   0.          0.        ]]\n",
      "[[25.30857143]]\n",
      "[[20.634  0.     1.442 11.538  0.    10.042  0.     0.   ]]\n",
      "[[22.334]]\n",
      "[[22.81  0.    1.45 11.78  0.    9.8   0.    0.  ]]\n",
      "[[25.31]]\n",
      "[[20.384  0.     1.424 11.868  0.     9.772  0.     0.   ]]\n",
      "[[22.36]]\n",
      "[[21.746  0.     1.402 12.734  0.     9.904  0.     0.   ]]\n",
      "[[24.81]]\n",
      "[[22.51   0.     1.428 11.912  0.    10.012  0.     0.   ]]\n",
      "[[24.772]]\n",
      "[[19.56        0.          1.40666667 12.44        0.         10.46666667\n",
      "   0.          0.        ]]\n",
      "[[22.53666667]]\n",
      "[[20.12142857  0.          1.36285714 12.19857143  0.         10.28142857\n",
      "   0.          0.        ]]\n",
      "[[23.80857143]]\n",
      "[[22.46   0.     1.402 12.444  0.     9.902  0.     0.   ]]\n",
      "[[25.284]]\n",
      "[[20.52        0.          1.41       12.56666667  0.         10.50333333\n",
      "   0.          0.        ]]\n",
      "[[24.58333333]]\n",
      "[[21.91333333  0.          1.45       13.25666667  0.         10.80666667\n",
      "   0.          0.        ]]\n",
      "[[25.83]]\n",
      "[[20.24333333  0.27        1.38333333 13.76666667  0.         11.29333333\n",
      "   0.          0.        ]]\n",
      "[[23.89333333]]\n",
      "[[18.95333333  0.          1.28       13.34666667  0.         10.64666667\n",
      "   0.          0.        ]]\n",
      "[[22.81]]\n",
      "[[18.208  0.     1.194 12.716  0.    10.616  0.     0.   ]]\n",
      "[[22.108]]\n",
      "[[20.79        0.          1.25714286 12.64285714  0.         10.52142857\n",
      "   0.          0.        ]]\n",
      "[[25.46]]\n",
      "[[21.1         0.          1.34       13.75666667  0.         10.49666667\n",
      "   0.          0.        ]]\n",
      "[[24.37]]\n",
      "[[19.76666667  0.          1.31       13.56666667  0.         10.51333333\n",
      "   0.          0.        ]]\n",
      "[[23.45333333]]\n",
      "[[18.93333333  0.          1.25333333 13.77666667  0.         10.87666667\n",
      "   0.          0.        ]]\n",
      "[[23.01333333]]\n",
      "[[18.43333333  0.          1.19666667 13.65        0.         10.37333333\n",
      "   0.          0.        ]]\n",
      "[[22.56]]\n",
      "[[18.12        0.          1.15666667 13.36666667  0.         10.85666667\n",
      "   0.          0.        ]]\n",
      "[[22.26666667]]\n",
      "[[18.89142857  0.          1.16142857 14.03857143  0.         10.72857143\n",
      "   0.          0.        ]]\n",
      "[[23.42428571]]\n",
      "[[21.248  0.     1.296 14.056  0.    10.656  0.     0.   ]]\n",
      "[[25.898]]\n",
      "[[20.37        0.          1.34333333 13.47666667  0.         10.34\n",
      "   0.          0.        ]]\n",
      "[[24.30666667]]\n",
      "[[19.39        0.          1.30666667 12.79333333  0.         10.21666667\n",
      "   0.          0.        ]]\n",
      "[[23.76666667]]\n",
      "[[18.85        0.          1.26       12.85        0.         10.41666667\n",
      "   0.          0.        ]]\n",
      "[[23.16333333]]\n",
      "[[18.58  0.    1.23 12.86  0.   10.51  0.    0.  ]]\n",
      "[[22.91333333]]\n",
      "[[18.39        0.          1.19333333 12.63333333  0.         10.35\n",
      "   0.          0.        ]]\n",
      "[[22.68333333]]\n",
      "[[18.31        0.          1.18       14.05        0.         10.76333333\n",
      "   0.          0.        ]]\n",
      "[[22.47666667]]\n",
      "[[18.24666667  0.          1.16333333 14.50333333  0.         10.53666667\n",
      "   0.          0.        ]]\n",
      "[[22.52]]\n",
      "[[18.16        0.          1.16       16.50666667  0.         10.3\n",
      "   0.          0.        ]]\n",
      "[[22.52]]\n",
      "[[18.14        0.          1.16       13.89        0.         10.57333333\n",
      "   0.          0.        ]]\n",
      "[[22.58]]\n",
      "[[18.1         0.          1.16       13.62        0.         11.02333333\n",
      "   0.          0.        ]]\n",
      "[[22.47666667]]\n",
      "[[18.12        0.          1.16333333 13.43333333  0.         10.91333333\n",
      "   0.          0.        ]]\n",
      "[[22.5]]\n",
      "[[18.1         0.          1.16333333 14.99666667  0.         10.91333333\n",
      "   0.          0.        ]]\n",
      "[[22.64]]\n",
      "[[18.06        0.          1.15666667 12.98666667  0.         11.23333333\n",
      "   0.          0.        ]]\n",
      "[[22.56]]\n",
      "[[18.12        0.          1.15333333 13.59666667  0.         11.26\n",
      "   0.          0.        ]]\n",
      "[[22.41]]\n",
      "[[18.27        0.          1.15666667 13.87333333  0.         11.93\n",
      "   0.          0.        ]]\n",
      "[[22.45333333]]\n",
      "[[18.984  0.     1.18  14.3    0.    11.518  0.     0.   ]]\n",
      "[[23.572]]\n",
      "[[21.51   0.     1.316 12.882  0.    10.736  0.     0.   ]]\n",
      "[[26.184]]\n",
      "[[20.83        0.          1.37333333 11.91        0.         10.32666667\n",
      "   0.          0.        ]]\n",
      "[[24.58]]\n",
      "[[19.95333333  0.          1.34333333 12.24333333  0.         10.58666667\n",
      "   0.          0.        ]]\n",
      "[[23.83]]\n",
      "[[19.33        0.          1.29666667 12.33333333  0.         10.49333333\n",
      "   0.          0.        ]]\n",
      "[[23.22666667]]\n",
      "[[18.83        0.          1.24333333 12.61333333  0.         10.58\n",
      "   0.          0.        ]]\n",
      "[[22.70666667]]\n",
      "[[18.37333333  0.          1.20333333 13.62        0.         10.87\n",
      "   0.          0.        ]]\n",
      "[[22.14333333]]\n",
      "[[19.24571429  0.          1.2        13.08142857  0.         10.46571429\n",
      "   0.          0.        ]]\n",
      "[[23.47]]\n",
      "[[20.31        0.          1.28       13.17333333  0.         10.24333333\n",
      "   0.          0.        ]]\n",
      "[[23.58]]\n",
      "[[19.22333333  0.          1.26333333 12.33        0.         10.36333333\n",
      "   0.          0.        ]]\n",
      "[[22.58]]\n",
      "[[19.17166667  0.          1.21833333 13.075       0.         10.68\n",
      "   0.          0.        ]]\n",
      "[[23.11]]\n",
      "[[21.64333333  0.          1.30833333 13.035       0.         10.5\n",
      "   0.          0.        ]]\n",
      "[[25.50833333]]\n",
      "[[20.60333333  0.26666667  1.34       13.17        0.         11.02333333\n",
      "   0.          0.        ]]\n",
      "[[23.51666667]]\n",
      "[[19.1         0.          1.28333333 13.95        0.         10.77333333\n",
      "   0.          0.        ]]\n",
      "[[22.58]]\n",
      "[[19.91571429  0.          1.25571429 12.62714286  0.         10.56714286\n",
      "   0.          0.        ]]\n",
      "[[23.80857143]]\n",
      "[[21.998  0.     1.348 12.524  0.    10.362  0.     0.   ]]\n",
      "[[25.358]]\n",
      "[[20.16333333  0.          1.34       12.41        0.         10.28\n",
      "   0.          0.        ]]\n",
      "[[23.20333333]]\n",
      "[[18.71   0.     1.25  11.996  0.    10.222  0.     0.   ]]\n",
      "[[22.108]]\n",
      "[[20.87   0.     1.268 13.054  0.    10.516  0.     0.   ]]\n",
      "[[24.896]]\n",
      "[[21.948  0.     1.346 12.97   0.    10.626  0.     0.   ]]\n",
      "[[25.084]]\n",
      "[[19.85333333  0.          1.32666667 12.09        0.         10.43333333\n",
      "   0.          0.        ]]\n",
      "[[22.87]]\n",
      "[[18.896  0.     1.252 13.428  0.    10.608  0.     0.   ]]\n",
      "[[22.494]]\n",
      "[[21.034  0.     1.288 12.972  0.    10.464  0.     0.   ]]\n",
      "[[24.484]]\n",
      "[[19.58        0.          1.28666667 13.32        0.         10.49333333\n",
      "   0.          0.        ]]\n",
      "[[22.58]]\n",
      "[[19.67166667  0.          1.24666667 14.37166667  0.         10.78666667\n",
      "   0.          0.        ]]\n",
      "[[23.23666667]]\n"
     ]
    },
    {
     "name": "stdout",
     "output_type": "stream",
     "text": [
      "[[22.06        0.          1.325      14.93166667  0.         10.75333333\n",
      "   0.          0.        ]]\n",
      "[[25.36]]\n",
      "[[20.62        0.          1.34666667 14.85333333  0.         10.4\n",
      "   0.          0.        ]]\n",
      "[[23.24666667]]\n",
      "[[19.194  0.     1.274 13.62   0.    10.674  0.     0.   ]]\n",
      "[[22.384]]\n",
      "[[21.89714286  0.          1.31571429 15.09428571  0.         10.75142857\n",
      "   0.          0.        ]]\n",
      "[[25.39857143]]\n",
      "[[21.52        0.27        1.37       14.46666667  0.         10.80333333\n",
      "   0.          0.        ]]\n",
      "[[23.77]]\n",
      "[[19.47333333  0.          1.30666667 12.45666667  0.         10.44\n",
      "   0.          0.        ]]\n",
      "[[22.35]]\n",
      "[[19.308  0.     1.244 13.722  0.    10.296  0.     0.   ]]\n",
      "[[22.834]]\n",
      "[[21.346  0.     1.298 12.132  0.    10.082  0.     0.   ]]\n",
      "[[24.346]]\n",
      "[[19.182  0.     1.268 12.458  0.    10.062  0.     0.   ]]\n",
      "[[22.196]]\n",
      "[[21.54833333  0.          1.29       12.905       0.          9.73833333\n",
      "   0.          0.        ]]\n",
      "[[24.73666667]]\n",
      "[[22.79        0.11857143  1.35428571 12.56571429  0.          9.91285714\n",
      "   0.          0.        ]]\n",
      "[[25.51285714]]\n",
      "[[21.93333333  0.81333333  1.39333333 11.68333333  0.          9.80666667\n",
      "   0.          0.        ]]\n",
      "[[23.93333333]]\n",
      "[[19.444  0.     1.306 11.64   0.     9.902  0.     0.   ]]\n",
      "[[22.296]]\n",
      "[[21.584  0.     1.306 12.592  0.    10.434  0.     0.   ]]\n",
      "[[24.672]]\n",
      "[[22.72   0.336  1.37  13.19   0.    10.136  0.     0.   ]]\n",
      "[[25.332]]\n",
      "[[20.47333333  0.          1.35666667 11.56        0.         10.05666667\n",
      "   0.          0.        ]]\n",
      "[[22.66]]\n",
      "[[19.248  0.     1.274 11.866  0.    10.354  0.     0.   ]]\n",
      "[[22.508]]\n",
      "[[22.215       0.          1.315      11.515       0.          9.80666667\n",
      "   0.          0.        ]]\n",
      "[[25.12166667]]\n",
      "[[22.1375  0.      1.365  11.9475  0.      9.9225  0.      0.    ]]\n",
      "[[24.405]]\n",
      "[[19.158  0.     1.292 11.122  0.     9.864  0.     0.   ]]\n",
      "[[22.168]]\n",
      "[[20.64333333  0.          1.26333333 11.20666667  0.          9.75666667\n",
      "   0.          0.        ]]\n",
      "[[23.97666667]]\n",
      "[[22.51571429  0.          1.33714286 11.10857143  0.          9.70142857\n",
      "   0.          0.        ]]\n",
      "[[25.30857143]]\n",
      "[[20.93333333  0.          1.35333333 11.01333333  0.          9.61666667\n",
      "   0.          0.        ]]\n",
      "[[23.08]]\n",
      "[[19.036  0.     1.262 11.068  0.     9.734  0.     0.   ]]\n",
      "[[22.256]]\n",
      "[[21.808  0.     1.286 11.826  0.     9.724  0.     0.   ]]\n",
      "[[24.696]]\n",
      "[[21.37        0.          1.33666667 11.07666667  0.          9.65333333\n",
      "   0.          0.        ]]\n",
      "[[23.31]]\n",
      "[[19.358  0.     1.274 11.236  0.     9.778  0.     0.   ]]\n",
      "[[22.256]]\n",
      "[[21.934  0.     1.296 11.392  0.     9.872  0.     0.   ]]\n",
      "[[24.736]]\n",
      "[[21.18333333  0.          1.33333333 11.07333333  0.          9.69\n",
      "   0.          0.        ]]\n",
      "[[23.16333333]]\n",
      "[[19.072  0.     1.264 12.02   0.    10.344  0.     0.   ]]\n",
      "[[22.234]]\n",
      "[[21.822  0.     1.29  12.716  0.    10.408  0.     0.   ]]\n",
      "[[24.67]]\n",
      "[[22.77   0.     1.354 11.576  0.     9.814  0.     0.   ]]\n",
      "[[25.322]]\n",
      "[[20.45333333  0.27        1.34333333 12.01666667  0.         12.31333333\n",
      "   0.          0.        ]]\n",
      "[[22.89]]\n",
      "[[19.648  0.     1.28  11.048  0.    12.386  0.     0.   ]]\n",
      "[[22.732]]\n",
      "[[22.48571429  0.          1.33428571 11.21714286  0.         12.14\n",
      "   0.          0.        ]]\n",
      "[[25.32714286]]\n",
      "[[21.53666667  0.          1.37333333 11.14666667  0.         12.05333333\n",
      "   0.          0.        ]]\n",
      "[[23.62333333]]\n",
      "[[19.87  0.    1.33 11.17  0.   12.39  0.    0.  ]]\n",
      "[[22.68]]\n",
      "[[19.996  0.     1.282 11.384  0.    12.338  0.     0.   ]]\n",
      "[[22.572]]\n",
      "[[22.35428571  0.          1.32571429 11.57142857  0.         12.19\n",
      "   0.          0.        ]]\n",
      "[[25.47857143]]\n",
      "[[21.37333333  0.          1.36333333 11.15666667  0.         12.\n",
      "   0.          0.        ]]\n",
      "[[23.64333333]]\n",
      "[[19.058  0.     1.282 11.544  0.    12.274  0.     0.   ]]\n",
      "[[22.258]]\n",
      "[[21.04833333  0.          1.28       12.025       0.         12.345\n",
      "   0.          0.        ]]\n",
      "[[24.87166667]]\n",
      "[[22.20333333  0.          1.35       11.36333333  0.         11.83666667\n",
      "   0.          0.        ]]\n",
      "[[24.78666667]]\n",
      "[[19.87   0.     1.325 13.355  0.    10.505  0.     0.   ]]\n",
      "[[22.935]]\n",
      "[[18.685  0.     1.235 14.875  0.    10.245  0.     0.   ]]\n",
      "[[22.055]]\n",
      "[[21.1225  0.      1.275  13.2375  0.     10.9325  0.      0.    ]]\n",
      "[[25.34]]\n",
      "[[22.12  0.    1.35 12.25  0.   10.61  0.    0.  ]]\n",
      "[[26.06]]\n",
      "[[20.245  0.     1.34  14.13   0.    10.67   0.     0.   ]]\n",
      "[[23.53]]\n",
      "[[19.34   0.     1.285 13.12   0.    10.705  0.     0.   ]]\n",
      "[[22.935]]\n",
      "[[18.64333333  0.          1.21333333 12.37        0.         10.10333333\n",
      "   0.          0.        ]]\n",
      "[[22.35333333]]\n",
      "[[18.196  0.     1.158 12.634  0.    10.58   0.     0.   ]]\n",
      "[[22.008]]\n",
      "[[19.684  0.     1.186 12.006  0.    10.598  0.     0.   ]]\n",
      "[[24.272]]\n",
      "[[21.384  0.     1.302 11.532  0.    10.346  0.     0.   ]]\n",
      "[[25.658]]\n",
      "[[20.185  0.     1.335 11.52   0.     9.905  0.     0.   ]]\n",
      "[[23.87]]\n",
      "[[19.39        0.          1.29333333 11.88        0.         10.14\n",
      "   0.          0.        ]]\n",
      "[[23.22666667]]\n",
      "[[18.78666667  0.          1.24       11.86333333  0.         10.14333333\n",
      "   0.          0.        ]]\n",
      "[[22.72333333]]\n",
      "[[18.45333333  0.          1.2        11.30666667  0.         10.2\n",
      "   0.          0.        ]]\n",
      "[[22.51666667]]\n",
      "[[18.33        0.          1.17333333 11.24        0.         10.43\n",
      "   0.          0.        ]]\n",
      "[[22.33]]\n",
      "[[18.16333333  0.          1.15333333 12.53666667  0.         10.58333333\n",
      "   0.          0.        ]]\n",
      "[[22.18666667]]\n",
      "[[18.08        0.          1.14       11.69333333  0.         10.50333333\n",
      "   0.          0.        ]]\n",
      "[[22.25]]\n",
      "[[18.02        0.          1.13333333 11.45        0.         10.74\n",
      "   0.          0.        ]]\n",
      "[[22.25]]\n",
      "[[18.06        0.          1.13       11.47666667  0.         10.59333333\n",
      "   0.          0.        ]]\n",
      "[[22.24666667]]\n",
      "[[18.04  0.    1.13 12.12  0.   11.07  0.    0.  ]]\n",
      "[[22.20333333]]\n",
      "[[18.02        0.          1.13       12.15333333  0.         10.99666667\n",
      "   0.          0.        ]]\n",
      "[[22.28666667]]\n",
      "[[17.986  0.     1.132 12.22   0.    10.758  0.     0.   ]]\n",
      "[[22.032]]\n",
      "[[20.41714286  0.          1.22285714 11.62714286  0.         10.55285714\n",
      "   0.          0.        ]]\n",
      "[[25.44142857]]\n",
      "[[21.14        0.          1.33333333 12.05666667  0.         10.39\n",
      "   0.          0.        ]]\n",
      "[[24.62]]\n",
      "[[20.1         0.          1.34       12.57666667  0.         10.14666667\n",
      "   0.          0.        ]]\n",
      "[[24.03666667]]\n",
      "[[19.37        0.          1.29666667 11.51666667  0.         10.12\n",
      "   0.          0.        ]]\n",
      "[[23.41333333]]\n",
      "[[18.85        0.          1.25333333 11.93666667  0.          9.88\n",
      "   0.          0.        ]]\n",
      "[[22.99666667]]\n",
      "[[18.55666667  0.          1.21666667 11.55        0.         10.17\n",
      "   0.          0.        ]]\n",
      "[[22.58]]\n",
      "[[18.16   0.     1.174 11.352  0.    10.06   0.     0.   ]]\n",
      "[[22.134]]\n",
      "[[19.975       0.          1.205      12.75833333  0.         10.60333333\n",
      "   0.          0.        ]]\n",
      "[[24.60166667]]\n",
      "[[21.3075  0.      1.31   11.7175  0.     10.3975  0.      0.    ]]\n",
      "[[25.215]]\n",
      "[[19.95333333  0.          1.31666667 10.68        0.          9.79333333\n",
      "   0.          0.        ]]\n",
      "[[23.64]]\n",
      "[[18.97666667  0.          1.26333333 11.06333333  0.          9.95666667\n",
      "   0.          0.        ]]\n",
      "[[23.06]]\n",
      "[[18.284  0.     1.2   11.558  0.     9.988  0.     0.   ]]\n",
      "[[22.108]]\n",
      "[[19.948  0.     1.208 11.344  0.    10.22   0.     0.   ]]\n",
      "[[24.336]]\n",
      "[[20.18666667  0.          1.27       11.16333333  0.         10.19333333\n",
      "   0.          0.        ]]\n",
      "[[23.33]]\n",
      "[[18.97333333  0.          1.24666667 11.81666667  0.         10.06333333\n",
      "   0.          0.        ]]\n",
      "[[22.62]]\n",
      "[[18.496  0.     1.186 12.008  0.    10.85   0.     0.   ]]\n",
      "[[22.42]]\n",
      "[[21.30142857  0.          1.26571429 11.68285714  0.         10.11857143\n",
      "   0.          0.        ]]\n",
      "[[25.31857143]]\n",
      "[[20.80666667  0.          1.32666667 11.48        0.          9.93333333\n",
      "   0.          0.        ]]\n",
      "[[23.72333333]]\n",
      "[[19.20333333  0.          1.27666667 11.77333333  0.         10.38333333\n",
      "   0.          0.        ]]\n",
      "[[22.64]]\n",
      "[[19.47857143  0.          1.22714286 12.45428571  0.         10.78714286\n",
      "   0.          0.        ]]\n",
      "[[23.38857143]]\n",
      "[[21.708  0.     1.306 13.488  0.    11.164  0.     0.   ]]\n",
      "[[25.508]]\n",
      "[[20.51666667  0.          1.33       12.66666667  0.         10.77\n",
      "   0.          0.        ]]\n",
      "[[23.45666667]]\n"
     ]
    },
    {
     "name": "stdout",
     "output_type": "stream",
     "text": [
      "[[18.834  0.     1.258 11.308  0.    10.56   0.     0.   ]]\n",
      "[[22.144]]\n",
      "[[20.632  0.     1.25  12.092  0.    10.908  0.     0.   ]]\n",
      "[[24.584]]\n",
      "[[22.022  0.     1.334 12.42   0.    11.148  0.     0.   ]]\n",
      "[[25.334]]\n",
      "[[20.26666667  0.          1.33333333 10.88        0.         10.13666667\n",
      "   0.          0.        ]]\n",
      "[[23.28666667]]\n",
      "[[18.986  0.     1.256 10.962  0.    10.13   0.     0.   ]]\n",
      "[[22.296]]\n",
      "[[20.958  0.     1.268 11.602  0.    10.75   0.     0.   ]]\n",
      "[[24.622]]\n",
      "[[19.95333333  0.          1.28666667 10.97333333  0.         10.35\n",
      "   0.          0.        ]]\n",
      "[[22.62]]\n",
      "[[19.87142857  0.          1.24571429 11.76142857  0.         11.\n",
      "   0.          0.        ]]\n",
      "[[23.38]]\n",
      "[[22.07   0.     1.318 10.988  0.    10.148  0.     0.   ]]\n",
      "[[25.458]]\n",
      "[[20.83        0.          1.33666667 11.87666667  0.         10.98\n",
      "   0.          0.        ]]\n",
      "[[23.20666667]]\n",
      "[[19.096  0.     1.26  11.026  0.    10.304  0.     0.   ]]\n",
      "[[22.196]]\n",
      "[[21.31   0.     1.28  11.46   0.    10.974  0.     0.   ]]\n",
      "[[24.784]]\n",
      "[[20.6         0.          1.31333333 11.44        0.         10.95\n",
      "   0.          0.        ]]\n",
      "[[23.16333333]]\n",
      "[[18.96   0.     1.252 11.046  0.    10.642  0.     0.   ]]\n",
      "[[22.268]]\n",
      "[[21.54833333  0.          1.28166667 11.06833333  0.         10.05166667\n",
      "   0.          0.        ]]\n",
      "[[24.97666667]]\n",
      "[[22.2925  0.      1.345  12.215   0.     10.475   0.      0.    ]]\n",
      "[[24.875]]\n",
      "[[19.672  0.     1.308 11.462  0.    10.48   0.     0.   ]]\n",
      "[[22.358]]\n",
      "[[20.5725  0.      1.2675 11.0525  0.     10.3925  0.      0.    ]]\n",
      "[[23.935]]\n",
      "[[22.43285714  0.          1.33571429 10.03        0.          9.90428571\n",
      "   0.          0.        ]]\n",
      "[[25.17428571]]\n",
      "[[22.65571429  0.34428571  1.38285714  9.94        0.          9.89142857\n",
      "   0.          0.        ]]\n",
      "[[25.21]]\n",
      "[[22.08        0.84333333  1.40666667 10.75        0.         10.19666667\n",
      "   0.          0.        ]]\n",
      "[[23.93666667]]\n",
      "[[19.36   0.     1.314 10.418  0.    10.128  0.     0.   ]]\n",
      "[[22.222]]\n",
      "[[20.16333333  0.          1.27       11.25666667  0.         10.10666667\n",
      "   0.          0.        ]]\n",
      "[[23.64333333]]\n",
      "[[21.87   0.     1.318 10.858  0.    10.098  0.     0.   ]]\n",
      "[[24.448]]\n",
      "[[19.465  0.     1.295 10.55   0.     9.77   0.     0.   ]]\n",
      "[[22.245]]\n",
      "[[21.358  0.     1.282 10.546  0.     9.92   0.     0.   ]]\n",
      "[[24.422]]\n",
      "[[21.58        0.          1.33        9.95666667  0.          9.87666667\n",
      "   0.          0.        ]]\n",
      "[[23.82666667]]\n"
     ]
    }
   ],
   "source": [
    "# Imports\n",
    "from skmultiflow.data import RegressionGenerator\n",
    "from skmultiflow.meta import AdaptiveRandomForestRegressor\n",
    "import numpy as np\n",
    "# Setup a data stream\n",
    "\n",
    "# Prepare stream for use\n",
    "# Setup the Adaptive Random Forest regressor\n",
    "arf_reg = AdaptiveRandomForestRegressor(random_state=123456)\n",
    "# Auxiliary variables to control loop and track performance\n",
    "n_samples = 0\n",
    "# Run test-then-train loop for max_samples and while there is data\n",
    "for i in range(200):\n",
    "    \n",
    "    X=np.array(merged_data[['AmbientTemperature', 'Channel1ChargeDischargeCurrent_1', 'Channel2ChargeDischargeCurrent_0',\n",
    "       'Channel2ChargeDischargeCurrent_1', 'Channel3ChargeDischargeCurrent_0',\n",
    "       'Channel3ChargeDischargeCurrent_1', 'Channel4ChargeDischargeCurrent_0',\n",
    "       'Channel4ChargeDischargeCurrent_1']].iloc[i:i+1,:])\n",
    "    \n",
    "    print(X)\n",
    "    y=np.array(merged_data[['ShelterTemperature']].iloc[i:i+1,:])\n",
    "    \n",
    "    print(y)\n",
    "    \n",
    "    y_pred[n_samples] = arf_reg.predict(X)[0]\n",
    "    arf_reg.partial_fit(X, y)\n",
    "    n_samples+=1\n"
   ]
  },
  {
   "cell_type": "code",
   "execution_count": 46,
   "metadata": {},
   "outputs": [
    {
     "name": "stdout",
     "output_type": "stream",
     "text": [
      "Adaptive Random Forest regressor example\n",
      "200 samples analyzed.\n",
      "Mean absolute error: 1.3086002981036164\n"
     ]
    }
   ],
   "source": [
    "n_samples = 0\n",
    "max_samples = 200\n",
    "y_true = np.array(merged_data[['ShelterTemperature']].iloc[0:max_samples,:])\n",
    "\n",
    "# Display results\n",
    "print('Adaptive Random Forest regressor example')\n",
    "print('{} samples analyzed.'.format(max_samples))\n",
    "print('Mean absolute error: {}'.format(np.mean(np.abs(y_true - y_pred))))"
   ]
  },
  {
   "cell_type": "code",
   "execution_count": 47,
   "metadata": {},
   "outputs": [],
   "source": [
    "import matplotlib.pyplot as plt"
   ]
  },
  {
   "cell_type": "code",
   "execution_count": 75,
   "metadata": {},
   "outputs": [
    {
     "data": {
      "image/png": "[encoded data removed]",
      "text/plain": [
       "<Figure size 432x288 with 1 Axes>"
      ]
     },
     "metadata": {
      "needs_background": "light"
     },
     "output_type": "display_data"
    }
   ],
   "source": [
    "y_true= y_true.reshape(200,)\n",
    "data_for_plot= np.abs(y_true - y_pred)\n",
    "\n",
    "data_for_plot.shape\n",
    "plt.plot(data_for_plot)\n",
    "plt.title('performace on continious model retraining')\n",
    "plt.ylabel('error-temprature')\n",
    "plt.show()"
   ]
  },
  {
   "cell_type": "markdown",
   "metadata": {},
   "source": [
    "## ------------   Drift Detection on ambient temprature -----------\n",
    "https://scikit-multiflow.readthedocs.io/en/stable/api/api.html#module-skmultiflow.drift_detection\n",
    "\n",
    "drift_detection.ADWIN\n",
    "\n",
    "Adaptive Windowing method for concept drift detection.\n",
    "\n",
    "drift_detection.DDM\n",
    "\n",
    "Drift Detection Method.\n",
    "\n",
    "drift_detection.EDDM\n",
    "\n",
    "Early Drift Detection Method.\n",
    "\n",
    "drift_detection.HDDM_A\n",
    "\n",
    "Drift Detection Method based on Hoeffding’s bounds with moving average-test.\n",
    "\n",
    "drift_detection.HDDM_W\n",
    "\n",
    "Drift Detection Method based on Hoeffding’s bounds with moving weighted average-test.\n",
    "\n",
    "drift_detection.KSWIN\n",
    "\n",
    "Kolmogorov-Smirnov Windowing method for concept drift detection.\n",
    "\n",
    "drift_detection.PageHinkley\n",
    "\n",
    "Page-Hinkley method for concept drift detection.\n",
    "\n"
   ]
  },
  {
   "cell_type": "code",
   "execution_count": 124,
   "metadata": {},
   "outputs": [
    {
     "name": "stdout",
     "output_type": "stream",
     "text": [
      "Change detected in data: ['04JHO004' '2021-02-23 00:00:00' '2021-02-22 23:59:00' 129781.0 20.0 1.0\n",
      " 1.0 2262.02 0.03 0.0 '2021-02-22 23:59:00' 25.174285714285716\n",
      " 22.43285714285714 3731644.0 0.0 35506.0 8355708.0 2278.0 0.0 1.0\n",
      " '2021-02-22 23:59:00' 361.1352 1.0 0.0 0.0 1.335714285714286 10.03 0.0\n",
      " 9.904285714285717 0.0 0.0 54.70714285714285 54.68714285714286] - at index: 191\n"
     ]
    }
   ],
   "source": [
    "# Imports\n",
    "import numpy as np\n",
    "from skmultiflow.drift_detection.adwin import ADWIN\n",
    "adwin = ADWIN()\n",
    "# Simulating a data stream as a normal distribution of 1's and 0's\n",
    "data_stream = np.array(merged_data)\n",
    "# Changing the data concept from index 999 to 2000\n",
    "\n",
    "# Adding stream elements to ADWIN and verifying if drift occurred\n",
    "for i in range(200):\n",
    "    \n",
    "    pp= np.array(merged_data['AmbientTemperature'][i])\n",
    "    \n",
    "    adwin.add_element(pp)\n",
    "    if adwin.detected_change():\n",
    "        print('Change detected in data: ' + str(data_stream[i]) + ' - at index: ' + str(i))"
   ]
  },
  {
   "cell_type": "code",
   "execution_count": 119,
   "metadata": {},
   "outputs": [
    {
     "data": {
      "text/plain": [
       "[<matplotlib.lines.Line2D at 0x1502fc390>]"
      ]
     },
     "execution_count": 119,
     "metadata": {},
     "output_type": "execute_result"
    },
    {
     "data": {
      "image/png": "[encoded data removed]",
      "text/plain": [
       "<Figure size 432x288 with 1 Axes>"
      ]
     },
     "metadata": {
      "needs_background": "light"
     },
     "output_type": "display_data"
    }
   ],
   "source": [
    "plt.plot(merged_data['AmbientTemperature'][180:200])"
   ]
  },
  {
   "cell_type": "code",
   "execution_count": 7,
   "metadata": {},
   "outputs": [
    {
     "data": {
      "text/plain": [
       "[<matplotlib.lines.Line2D at 0x10b79b210>]"
      ]
     },
     "execution_count": 7,
     "metadata": {},
     "output_type": "execute_result"
    },
    {
     "data": {
      "image/png": "[encoded data removed]",
      "text/plain": [
       "<Figure size 432x288 with 1 Axes>"
      ]
     },
     "metadata": {
      "needs_background": "light"
     },
     "output_type": "display_data"
    }
   ],
   "source": [
    "import numpy as np\n",
    "from skmultiflow.drift_detection.adwin import ADWIN\n",
    "adwin = ADWIN()\n",
    "# Simulating a data stream as a normal distribution of 1's and 0's\n",
    "data_stream = np.random.randint(2, size=2000)\n",
    "# Changing the data concept from index 999 to 2000\n",
    "for i in range(999, 2000):\n",
    "    data_stream[i] = np.random.randint(4, high=8)\n",
    "# Adding stream elements to ADWIN and verifying if drift occurred\n",
    "\n",
    "import matplotlib.pyplot as plt\n",
    "plt.plot(data_stream)"
   ]
  },
  {
   "cell_type": "code",
   "execution_count": 8,
   "metadata": {},
   "outputs": [
    {
     "name": "stdout",
     "output_type": "stream",
     "text": [
      "Change detected in data: 4 - at index: 1023\n",
      "Change detected in data: 7 - at index: 1055\n",
      "Change detected in data: 7 - at index: 1087\n"
     ]
    }
   ],
   "source": [
    "for i in range(2000):\n",
    "    adwin.add_element(data_stream[i])\n",
    "    if adwin.detected_change():\n",
    "        print('Change detected in data: ' + str(data_stream[i]) + ' - at index: ' + str(i))"
   ]
  },
  {
   "cell_type": "code",
   "execution_count": 89,
   "metadata": {},
   "outputs": [
    {
     "data": {
      "text/plain": [
       "array([['04JHO004', '2021-02-21 00:15:00', '2021-02-21 00:14:00',\n",
       "        129781.0, 20.0, 1.0, 1.0, 2156.49, 0.03, 0.0,\n",
       "        '2021-02-21 00:14:00', 25.40375, 23.176250000000003, 3559779.0,\n",
       "        0.0, 35506.0, 8355708.0, 2278.0, 0.0, 1.0, '2021-02-21 00:14:00',\n",
       "        361.6435, 1.0, 0.12125, 0.1, 1.45125, 11.8125, 0.0,\n",
       "        9.843750000000002, 0.0, 0.0, 54.65000000000001,\n",
       "        54.61750000000001]], dtype=object)"
      ]
     },
     "execution_count": 89,
     "metadata": {},
     "output_type": "execute_result"
    }
   ],
   "source": [
    "data_stream[0:1,:]"
   ]
  },
  {
   "cell_type": "code",
   "execution_count": 100,
   "metadata": {},
   "outputs": [
    {
     "data": {
      "text/plain": [
       "8"
      ]
     },
     "execution_count": 100,
     "metadata": {},
     "output_type": "execute_result"
    }
   ],
   "source": [
    "pp.shape[1]"
   ]
  },
  {
   "cell_type": "code",
   "execution_count": 101,
   "metadata": {},
   "outputs": [],
   "source": [
    "pp2= pp.reshape(pp.shape[1],)"
   ]
  },
  {
   "cell_type": "code",
   "execution_count": 103,
   "metadata": {},
   "outputs": [
    {
     "data": {
      "text/plain": [
       "array([23.17625,  0.1    ,  1.45125, 11.8125 ,  0.     ,  9.84375,\n",
       "        0.     ,  0.     ])"
      ]
     },
     "execution_count": 103,
     "metadata": {},
     "output_type": "execute_result"
    }
   ],
   "source": [
    "pp2"
   ]
  },
  {
   "cell_type": "code",
   "execution_count": 105,
   "metadata": {},
   "outputs": [],
   "source": [
    "# Imports\n",
    "import numpy as np\n",
    "from skmultiflow.drift_detection.adwin import ADWIN\n",
    "adwin = ADWIN()\n",
    "# Simulating a data stream as a normal distribution of 1's and 0's\n",
    "data_stream = np.random.randint(2, size=2000)\n",
    "# Changing the data concept from index 999 to 2000\n",
    "#for i in range(999, 2000):\n",
    "# Adding stream elements to ADWIN and verifying if drift occurred\n",
    "for i in range(200):\n",
    "    adwin.add_element(data_stream[i])\n",
    "    if adwin.detected_change():\n",
    "        print('Change detected in data: ' + str(data_stream[i]) + ' - at index: ' + str(i))"
   ]
  },
  {
   "cell_type": "code",
   "execution_count": 110,
   "metadata": {},
   "outputs": [
    {
     "data": {
      "text/plain": [
       "numpy.int64"
      ]
     },
     "execution_count": 110,
     "metadata": {},
     "output_type": "execute_result"
    }
   ],
   "source": [
    "type(data_stream[1])"
   ]
  },
  {
   "cell_type": "code",
   "execution_count": 118,
   "metadata": {},
   "outputs": [
    {
     "data": {
      "text/html": [
       "<div>\n",
       "<style scoped>\n",
       "    .dataframe tbody tr th:only-of-type {\n",
       "        vertical-align: middle;\n",
       "    }\n",
       "\n",
       "    .dataframe tbody tr th {\n",
       "        vertical-align: top;\n",
       "    }\n",
       "\n",
       "    .dataframe thead th {\n",
       "        text-align: right;\n",
       "    }\n",
       "</style>\n",
       "<table border=\"1\" class=\"dataframe\">\n",
       "  <thead>\n",
       "    <tr style=\"text-align: right;\">\n",
       "      <th></th>\n",
       "      <th>SiteID</th>\n",
       "      <th>CaptureDateTime</th>\n",
       "      <th>CaptureDateTime_ACEM</th>\n",
       "      <th>MeterID</th>\n",
       "      <th>MeterSlaveID</th>\n",
       "      <th>MeterPowerSource</th>\n",
       "      <th>MeterUsage</th>\n",
       "      <th>MeterKWh1</th>\n",
       "      <th>MeterKWh2</th>\n",
       "      <th>avg_load_dg</th>\n",
       "      <th>...</th>\n",
       "      <th>Channel1ChargeDischargeCurrent_0</th>\n",
       "      <th>Channel1ChargeDischargeCurrent_1</th>\n",
       "      <th>Channel2ChargeDischargeCurrent_0</th>\n",
       "      <th>Channel2ChargeDischargeCurrent_1</th>\n",
       "      <th>Channel3ChargeDischargeCurrent_0</th>\n",
       "      <th>Channel3ChargeDischargeCurrent_1</th>\n",
       "      <th>Channel4ChargeDischargeCurrent_0</th>\n",
       "      <th>Channel4ChargeDischargeCurrent_1</th>\n",
       "      <th>DCVoltage_0</th>\n",
       "      <th>DCVoltage_1</th>\n",
       "    </tr>\n",
       "  </thead>\n",
       "  <tbody>\n",
       "    <tr>\n",
       "      <th>0</th>\n",
       "      <td>04JHO004</td>\n",
       "      <td>2021-02-21 00:15:00</td>\n",
       "      <td>2021-02-21 00:14:00</td>\n",
       "      <td>129781.0</td>\n",
       "      <td>20.0</td>\n",
       "      <td>1.0</td>\n",
       "      <td>1.0</td>\n",
       "      <td>2156.49</td>\n",
       "      <td>0.03</td>\n",
       "      <td>0.0</td>\n",
       "      <td>...</td>\n",
       "      <td>0.121250</td>\n",
       "      <td>0.100000</td>\n",
       "      <td>1.451250</td>\n",
       "      <td>11.812500</td>\n",
       "      <td>0.0</td>\n",
       "      <td>9.843750</td>\n",
       "      <td>0.0</td>\n",
       "      <td>0.0</td>\n",
       "      <td>54.650000</td>\n",
       "      <td>54.617500</td>\n",
       "    </tr>\n",
       "    <tr>\n",
       "      <th>1</th>\n",
       "      <td>04JHO004</td>\n",
       "      <td>2021-02-21 00:30:00</td>\n",
       "      <td>2021-02-21 00:29:00</td>\n",
       "      <td>129781.0</td>\n",
       "      <td>20.0</td>\n",
       "      <td>1.0</td>\n",
       "      <td>1.0</td>\n",
       "      <td>2157.11</td>\n",
       "      <td>0.03</td>\n",
       "      <td>0.0</td>\n",
       "      <td>...</td>\n",
       "      <td>-0.446667</td>\n",
       "      <td>0.266667</td>\n",
       "      <td>1.470000</td>\n",
       "      <td>11.213333</td>\n",
       "      <td>0.0</td>\n",
       "      <td>9.790000</td>\n",
       "      <td>0.0</td>\n",
       "      <td>0.0</td>\n",
       "      <td>54.876667</td>\n",
       "      <td>54.840000</td>\n",
       "    </tr>\n",
       "    <tr>\n",
       "      <th>2</th>\n",
       "      <td>04JHO004</td>\n",
       "      <td>2021-02-21 00:45:00</td>\n",
       "      <td>2021-02-21 00:44:00</td>\n",
       "      <td>129781.0</td>\n",
       "      <td>20.0</td>\n",
       "      <td>1.0</td>\n",
       "      <td>1.0</td>\n",
       "      <td>2157.63</td>\n",
       "      <td>0.03</td>\n",
       "      <td>0.0</td>\n",
       "      <td>...</td>\n",
       "      <td>0.320000</td>\n",
       "      <td>0.000000</td>\n",
       "      <td>1.430000</td>\n",
       "      <td>11.290000</td>\n",
       "      <td>0.0</td>\n",
       "      <td>9.776000</td>\n",
       "      <td>0.0</td>\n",
       "      <td>0.0</td>\n",
       "      <td>54.830000</td>\n",
       "      <td>54.806000</td>\n",
       "    </tr>\n",
       "    <tr>\n",
       "      <th>3</th>\n",
       "      <td>04JHO004</td>\n",
       "      <td>2021-02-21 01:00:00</td>\n",
       "      <td>2021-02-21 00:59:00</td>\n",
       "      <td>129781.0</td>\n",
       "      <td>20.0</td>\n",
       "      <td>1.0</td>\n",
       "      <td>1.0</td>\n",
       "      <td>2158.06</td>\n",
       "      <td>0.03</td>\n",
       "      <td>0.0</td>\n",
       "      <td>...</td>\n",
       "      <td>-0.138571</td>\n",
       "      <td>0.000000</td>\n",
       "      <td>1.440000</td>\n",
       "      <td>12.037143</td>\n",
       "      <td>0.0</td>\n",
       "      <td>9.812857</td>\n",
       "      <td>0.0</td>\n",
       "      <td>0.0</td>\n",
       "      <td>54.692857</td>\n",
       "      <td>54.667143</td>\n",
       "    </tr>\n",
       "    <tr>\n",
       "      <th>4</th>\n",
       "      <td>04JHO004</td>\n",
       "      <td>2021-02-21 01:15:00</td>\n",
       "      <td>2021-02-21 01:14:00</td>\n",
       "      <td>129781.0</td>\n",
       "      <td>20.0</td>\n",
       "      <td>1.0</td>\n",
       "      <td>1.0</td>\n",
       "      <td>2158.69</td>\n",
       "      <td>0.03</td>\n",
       "      <td>0.0</td>\n",
       "      <td>...</td>\n",
       "      <td>0.000000</td>\n",
       "      <td>0.000000</td>\n",
       "      <td>1.440000</td>\n",
       "      <td>11.836667</td>\n",
       "      <td>0.0</td>\n",
       "      <td>9.926667</td>\n",
       "      <td>0.0</td>\n",
       "      <td>0.0</td>\n",
       "      <td>54.896667</td>\n",
       "      <td>54.876667</td>\n",
       "    </tr>\n",
       "    <tr>\n",
       "      <th>...</th>\n",
       "      <td>...</td>\n",
       "      <td>...</td>\n",
       "      <td>...</td>\n",
       "      <td>...</td>\n",
       "      <td>...</td>\n",
       "      <td>...</td>\n",
       "      <td>...</td>\n",
       "      <td>...</td>\n",
       "      <td>...</td>\n",
       "      <td>...</td>\n",
       "      <td>...</td>\n",
       "      <td>...</td>\n",
       "      <td>...</td>\n",
       "      <td>...</td>\n",
       "      <td>...</td>\n",
       "      <td>...</td>\n",
       "      <td>...</td>\n",
       "      <td>...</td>\n",
       "      <td>...</td>\n",
       "      <td>...</td>\n",
       "      <td>...</td>\n",
       "    </tr>\n",
       "    <tr>\n",
       "      <th>95</th>\n",
       "      <td>04JHO004</td>\n",
       "      <td>2021-02-22 00:00:00</td>\n",
       "      <td>2021-02-21 23:59:00</td>\n",
       "      <td>129781.0</td>\n",
       "      <td>20.0</td>\n",
       "      <td>1.0</td>\n",
       "      <td>1.0</td>\n",
       "      <td>2209.51</td>\n",
       "      <td>0.03</td>\n",
       "      <td>0.0</td>\n",
       "      <td>...</td>\n",
       "      <td>0.161667</td>\n",
       "      <td>0.000000</td>\n",
       "      <td>1.290000</td>\n",
       "      <td>12.905000</td>\n",
       "      <td>0.0</td>\n",
       "      <td>9.738333</td>\n",
       "      <td>0.0</td>\n",
       "      <td>0.0</td>\n",
       "      <td>54.755000</td>\n",
       "      <td>54.733333</td>\n",
       "    </tr>\n",
       "    <tr>\n",
       "      <th>96</th>\n",
       "      <td>04JHO004</td>\n",
       "      <td>2021-02-22 00:15:00</td>\n",
       "      <td>2021-02-22 00:12:00</td>\n",
       "      <td>129781.0</td>\n",
       "      <td>20.0</td>\n",
       "      <td>1.0</td>\n",
       "      <td>1.0</td>\n",
       "      <td>2209.87</td>\n",
       "      <td>0.03</td>\n",
       "      <td>0.0</td>\n",
       "      <td>...</td>\n",
       "      <td>0.000000</td>\n",
       "      <td>0.118571</td>\n",
       "      <td>1.354286</td>\n",
       "      <td>12.565714</td>\n",
       "      <td>0.0</td>\n",
       "      <td>9.912857</td>\n",
       "      <td>0.0</td>\n",
       "      <td>0.0</td>\n",
       "      <td>54.652857</td>\n",
       "      <td>54.631429</td>\n",
       "    </tr>\n",
       "    <tr>\n",
       "      <th>97</th>\n",
       "      <td>04JHO004</td>\n",
       "      <td>2021-02-22 00:30:00</td>\n",
       "      <td>2021-02-22 00:27:00</td>\n",
       "      <td>129781.0</td>\n",
       "      <td>20.0</td>\n",
       "      <td>1.0</td>\n",
       "      <td>1.0</td>\n",
       "      <td>2210.44</td>\n",
       "      <td>0.03</td>\n",
       "      <td>0.0</td>\n",
       "      <td>...</td>\n",
       "      <td>0.000000</td>\n",
       "      <td>0.813333</td>\n",
       "      <td>1.393333</td>\n",
       "      <td>11.683333</td>\n",
       "      <td>0.0</td>\n",
       "      <td>9.806667</td>\n",
       "      <td>0.0</td>\n",
       "      <td>0.0</td>\n",
       "      <td>54.663333</td>\n",
       "      <td>54.673333</td>\n",
       "    </tr>\n",
       "    <tr>\n",
       "      <th>98</th>\n",
       "      <td>04JHO004</td>\n",
       "      <td>2021-02-22 00:45:00</td>\n",
       "      <td>2021-02-22 00:42:00</td>\n",
       "      <td>129781.0</td>\n",
       "      <td>20.0</td>\n",
       "      <td>1.0</td>\n",
       "      <td>1.0</td>\n",
       "      <td>2211.04</td>\n",
       "      <td>0.03</td>\n",
       "      <td>0.0</td>\n",
       "      <td>...</td>\n",
       "      <td>0.000000</td>\n",
       "      <td>0.000000</td>\n",
       "      <td>1.306000</td>\n",
       "      <td>11.640000</td>\n",
       "      <td>0.0</td>\n",
       "      <td>9.902000</td>\n",
       "      <td>0.0</td>\n",
       "      <td>0.0</td>\n",
       "      <td>54.792000</td>\n",
       "      <td>54.782000</td>\n",
       "    </tr>\n",
       "    <tr>\n",
       "      <th>99</th>\n",
       "      <td>04JHO004</td>\n",
       "      <td>2021-02-22 01:00:00</td>\n",
       "      <td>2021-02-22 00:58:00</td>\n",
       "      <td>129781.0</td>\n",
       "      <td>20.0</td>\n",
       "      <td>1.0</td>\n",
       "      <td>1.0</td>\n",
       "      <td>2211.45</td>\n",
       "      <td>0.03</td>\n",
       "      <td>0.0</td>\n",
       "      <td>...</td>\n",
       "      <td>-0.466000</td>\n",
       "      <td>0.000000</td>\n",
       "      <td>1.306000</td>\n",
       "      <td>12.592000</td>\n",
       "      <td>0.0</td>\n",
       "      <td>10.434000</td>\n",
       "      <td>0.0</td>\n",
       "      <td>0.0</td>\n",
       "      <td>54.792000</td>\n",
       "      <td>54.742000</td>\n",
       "    </tr>\n",
       "  </tbody>\n",
       "</table>\n",
       "<p>100 rows × 33 columns</p>\n",
       "</div>"
      ],
      "text/plain": [
       "      SiteID      CaptureDateTime CaptureDateTime_ACEM   MeterID  \\\n",
       "0   04JHO004  2021-02-21 00:15:00  2021-02-21 00:14:00  129781.0   \n",
       "1   04JHO004  2021-02-21 00:30:00  2021-02-21 00:29:00  129781.0   \n",
       "2   04JHO004  2021-02-21 00:45:00  2021-02-21 00:44:00  129781.0   \n",
       "3   04JHO004  2021-02-21 01:00:00  2021-02-21 00:59:00  129781.0   \n",
       "4   04JHO004  2021-02-21 01:15:00  2021-02-21 01:14:00  129781.0   \n",
       "..       ...                  ...                  ...       ...   \n",
       "95  04JHO004  2021-02-22 00:00:00  2021-02-21 23:59:00  129781.0   \n",
       "96  04JHO004  2021-02-22 00:15:00  2021-02-22 00:12:00  129781.0   \n",
       "97  04JHO004  2021-02-22 00:30:00  2021-02-22 00:27:00  129781.0   \n",
       "98  04JHO004  2021-02-22 00:45:00  2021-02-22 00:42:00  129781.0   \n",
       "99  04JHO004  2021-02-22 01:00:00  2021-02-22 00:58:00  129781.0   \n",
       "\n",
       "    MeterSlaveID  MeterPowerSource  MeterUsage  MeterKWh1  MeterKWh2  \\\n",
       "0           20.0               1.0         1.0    2156.49       0.03   \n",
       "1           20.0               1.0         1.0    2157.11       0.03   \n",
       "2           20.0               1.0         1.0    2157.63       0.03   \n",
       "3           20.0               1.0         1.0    2158.06       0.03   \n",
       "4           20.0               1.0         1.0    2158.69       0.03   \n",
       "..           ...               ...         ...        ...        ...   \n",
       "95          20.0               1.0         1.0    2209.51       0.03   \n",
       "96          20.0               1.0         1.0    2209.87       0.03   \n",
       "97          20.0               1.0         1.0    2210.44       0.03   \n",
       "98          20.0               1.0         1.0    2211.04       0.03   \n",
       "99          20.0               1.0         1.0    2211.45       0.03   \n",
       "\n",
       "    avg_load_dg  ... Channel1ChargeDischargeCurrent_0  \\\n",
       "0           0.0  ...                         0.121250   \n",
       "1           0.0  ...                        -0.446667   \n",
       "2           0.0  ...                         0.320000   \n",
       "3           0.0  ...                        -0.138571   \n",
       "4           0.0  ...                         0.000000   \n",
       "..          ...  ...                              ...   \n",
       "95          0.0  ...                         0.161667   \n",
       "96          0.0  ...                         0.000000   \n",
       "97          0.0  ...                         0.000000   \n",
       "98          0.0  ...                         0.000000   \n",
       "99          0.0  ...                        -0.466000   \n",
       "\n",
       "    Channel1ChargeDischargeCurrent_1  Channel2ChargeDischargeCurrent_0  \\\n",
       "0                           0.100000                          1.451250   \n",
       "1                           0.266667                          1.470000   \n",
       "2                           0.000000                          1.430000   \n",
       "3                           0.000000                          1.440000   \n",
       "4                           0.000000                          1.440000   \n",
       "..                               ...                               ...   \n",
       "95                          0.000000                          1.290000   \n",
       "96                          0.118571                          1.354286   \n",
       "97                          0.813333                          1.393333   \n",
       "98                          0.000000                          1.306000   \n",
       "99                          0.000000                          1.306000   \n",
       "\n",
       "    Channel2ChargeDischargeCurrent_1  Channel3ChargeDischargeCurrent_0  \\\n",
       "0                          11.812500                               0.0   \n",
       "1                          11.213333                               0.0   \n",
       "2                          11.290000                               0.0   \n",
       "3                          12.037143                               0.0   \n",
       "4                          11.836667                               0.0   \n",
       "..                               ...                               ...   \n",
       "95                         12.905000                               0.0   \n",
       "96                         12.565714                               0.0   \n",
       "97                         11.683333                               0.0   \n",
       "98                         11.640000                               0.0   \n",
       "99                         12.592000                               0.0   \n",
       "\n",
       "    Channel3ChargeDischargeCurrent_1  Channel4ChargeDischargeCurrent_0  \\\n",
       "0                           9.843750                               0.0   \n",
       "1                           9.790000                               0.0   \n",
       "2                           9.776000                               0.0   \n",
       "3                           9.812857                               0.0   \n",
       "4                           9.926667                               0.0   \n",
       "..                               ...                               ...   \n",
       "95                          9.738333                               0.0   \n",
       "96                          9.912857                               0.0   \n",
       "97                          9.806667                               0.0   \n",
       "98                          9.902000                               0.0   \n",
       "99                         10.434000                               0.0   \n",
       "\n",
       "    Channel4ChargeDischargeCurrent_1  DCVoltage_0  DCVoltage_1  \n",
       "0                                0.0    54.650000    54.617500  \n",
       "1                                0.0    54.876667    54.840000  \n",
       "2                                0.0    54.830000    54.806000  \n",
       "3                                0.0    54.692857    54.667143  \n",
       "4                                0.0    54.896667    54.876667  \n",
       "..                               ...          ...          ...  \n",
       "95                               0.0    54.755000    54.733333  \n",
       "96                               0.0    54.652857    54.631429  \n",
       "97                               0.0    54.663333    54.673333  \n",
       "98                               0.0    54.792000    54.782000  \n",
       "99                               0.0    54.792000    54.742000  \n",
       "\n",
       "[100 rows x 33 columns]"
      ]
     },
     "execution_count": 118,
     "metadata": {},
     "output_type": "execute_result"
    }
   ],
   "source": [
    "merged_data.head(100)"
   ]
  },
  {
   "cell_type": "code",
   "execution_count": 10,
   "metadata": {},
   "outputs": [],
   "source": [
    "qq= np.array([123,45])"
   ]
  },
  {
   "cell_type": "code",
   "execution_count": 11,
   "metadata": {},
   "outputs": [],
   "source": [
    "pp= np.array([1,1])"
   ]
  },
  {
   "cell_type": "code",
   "execution_count": 12,
   "metadata": {},
   "outputs": [
    {
     "data": {
      "text/plain": [
       "168"
      ]
     },
     "execution_count": 12,
     "metadata": {},
     "output_type": "execute_result"
    }
   ],
   "source": [
    "np.dot(qq,pp)"
   ]
  },
  {
   "cell_type": "code",
   "execution_count": null,
   "metadata": {},
   "outputs": [],
   "source": [
    "identift_drift_detector(warning_zone_required,type_of_drift_detection):\n",
    "    '''\n",
    "    warning_zone_required- when there are possibity of drift detection\n",
    "    ['yes' 'no']\n",
    "    \n",
    "    type_of_drift_detection- ['sudden', 'gradual', 'sudden and gradual both']\n",
    "    \n",
    "    op-\n",
    "    best algo for detecting drift\n",
    "    '''\n",
    "    if (warning_zone_required == 'yes':\n",
    "        print('adwin')\n",
    "        else:\n",
    "        if(type_of_drift_detection !='sudden'):\n",
    "        print('adwin')\n",
    "        else:\n",
    "        print('page-hickey', 'adwin')\n",
    "        \n",
    "        \n",
    "    "
   ]
  },
  {
   "cell_type": "code",
   "execution_count": null,
   "metadata": {},
   "outputs": [],
   "source": []
  }
 ],
 "metadata": {
  "kernelspec": {
   "display_name": "Python 3",
   "language": "python",
   "name": "python3"
  },
  "language_info": {
   "codemirror_mode": {
    "name": "ipython",
    "version": 3
   },
   "file_extension": ".py",
   "mimetype": "text/x-python",
   "name": "python",
   "nbconvert_exporter": "python",
   "pygments_lexer": "ipython3",
   "version": "3.7.7"
  }
 },
 "nbformat": 4,
 "nbformat_minor": 4
}
